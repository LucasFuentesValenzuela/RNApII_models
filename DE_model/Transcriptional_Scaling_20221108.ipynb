{
 "cells": [
  {
   "cell_type": "markdown",
   "id": "6ce340ff",
   "metadata": {
    "toc": true
   },
   "source": [
    "<h1>Table of Contents<span class=\"tocSkip\"></span></h1>\n",
    "<div class=\"toc\"><ul class=\"toc-item\"><li><span><a href=\"#Description\" data-toc-modified-id=\"Description-1\"><span class=\"toc-item-num\">1&nbsp;&nbsp;</span>Description</a></span></li><li><span><a href=\"#Load-data\" data-toc-modified-id=\"Load-data-2\"><span class=\"toc-item-num\">2&nbsp;&nbsp;</span>Load data</a></span><ul class=\"toc-item\"><li><span><a href=\"#Nuclear-fraction\" data-toc-modified-id=\"Nuclear-fraction-2.1\"><span class=\"toc-item-num\">2.1&nbsp;&nbsp;</span>Nuclear fraction</a></span><ul class=\"toc-item\"><li><span><a href=\"#Fitting-the-nuclear-fraction\" data-toc-modified-id=\"Fitting-the-nuclear-fraction-2.1.1\"><span class=\"toc-item-num\">2.1.1&nbsp;&nbsp;</span>Fitting the nuclear fraction</a></span></li></ul></li><li><span><a href=\"#Bound-RNA-vs-size\" data-toc-modified-id=\"Bound-RNA-vs-size-2.2\"><span class=\"toc-item-num\">2.2&nbsp;&nbsp;</span>Bound RNA vs size</a></span></li><li><span><a href=\"#Fitting-functions\" data-toc-modified-id=\"Fitting-functions-2.3\"><span class=\"toc-item-num\">2.3&nbsp;&nbsp;</span>Fitting functions</a></span></li></ul></li><li><span><a href=\"#Fitting-Haploid-data\" data-toc-modified-id=\"Fitting-Haploid-data-3\"><span class=\"toc-item-num\">3&nbsp;&nbsp;</span>Fitting Haploid data</a></span><ul class=\"toc-item\"><li><span><a href=\"#Validating-on-diploid-data\" data-toc-modified-id=\"Validating-on-diploid-data-3.1\"><span class=\"toc-item-num\">3.1&nbsp;&nbsp;</span>Validating on diploid data</a></span></li><li><span><a href=\"#Predicting-on-a-range-of-values-for-DNA-content\" data-toc-modified-id=\"Predicting-on-a-range-of-values-for-DNA-content-3.2\"><span class=\"toc-item-num\">3.2&nbsp;&nbsp;</span>Predicting on a range of values for DNA content</a></span></li><li><span><a href=\"#Fitting-for-DNA=1.46\" data-toc-modified-id=\"Fitting-for-DNA=1.46-3.3\"><span class=\"toc-item-num\">3.3&nbsp;&nbsp;</span>Fitting for DNA=1.46</a></span></li></ul></li><li><span><a href=\"#Predicting-the-single-molecule-data\" data-toc-modified-id=\"Predicting-the-single-molecule-data-4\"><span class=\"toc-item-num\">4&nbsp;&nbsp;</span>Predicting the single molecule data</a></span></li><li><span><a href=\"#Bootstrap-fitting-on-the-parameters\" data-toc-modified-id=\"Bootstrap-fitting-on-the-parameters-5\"><span class=\"toc-item-num\">5&nbsp;&nbsp;</span>Bootstrap fitting on the parameters</a></span></li><li><span><a href=\"#CIs-for-the-SMT-data\" data-toc-modified-id=\"CIs-for-the-SMT-data-6\"><span class=\"toc-item-num\">6&nbsp;&nbsp;</span>CIs for the SMT data</a></span></li><li><span><a href=\"#CIs-on-diploid-data\" data-toc-modified-id=\"CIs-on-diploid-data-7\"><span class=\"toc-item-num\">7&nbsp;&nbsp;</span>CIs on diploid data</a></span><ul class=\"toc-item\"><li><span><a href=\"#CIs-on-data-with-variable-DNA-content\" data-toc-modified-id=\"CIs-on-data-with-variable-DNA-content-7.1\"><span class=\"toc-item-num\">7.1&nbsp;&nbsp;</span>CIs on data with variable DNA content</a></span></li></ul></li><li><span><a href=\"#Export-files\" data-toc-modified-id=\"Export-files-8\"><span class=\"toc-item-num\">8&nbsp;&nbsp;</span>Export files</a></span></li></ul></div>"
   ]
  },
  {
   "cell_type": "code",
   "execution_count": null,
   "id": "43381042",
   "metadata": {},
   "outputs": [],
   "source": [
    "import numpy as np\n",
    "import pandas as pd\n",
    "import matplotlib.pyplot as plt\n",
    "\n",
    "import os\n",
    "\n",
    "from scipy.optimize import curve_fit\n",
    "\n",
    "import toml"
   ]
  },
  {
   "cell_type": "code",
   "execution_count": null,
   "id": "424b38b1",
   "metadata": {},
   "outputs": [],
   "source": [
    "col_vol = 'cell_volume_fL'\n",
    "col_RNA = 'Rpb1_occupancy_ChIP-seq'"
   ]
  },
  {
   "cell_type": "code",
   "execution_count": null,
   "id": "614da892",
   "metadata": {},
   "outputs": [],
   "source": [
    "with open('../config.toml', 'r') as f:\n",
    "    config = toml.load(f)"
   ]
  },
  {
   "cell_type": "code",
   "execution_count": null,
   "id": "2dfa4e03",
   "metadata": {},
   "outputs": [],
   "source": [
    "PATH = config[\"DATADIR\"]"
   ]
  },
  {
   "cell_type": "markdown",
   "id": "2696996b",
   "metadata": {},
   "source": [
    "# Description"
   ]
  },
  {
   "cell_type": "markdown",
   "id": "9442396d",
   "metadata": {},
   "source": [
    "This notebook contains the main analysis of the deterministic Dynamic Equilibrium model, including comparison with ChIP-seq data. \n",
    "\n"
   ]
  },
  {
   "cell_type": "markdown",
   "id": "4fd2dd99",
   "metadata": {},
   "source": [
    "It requires having the data in a `data_in` sub-directory in the `DATADIR`."
   ]
  },
  {
   "cell_type": "markdown",
   "id": "cbf4e3a3",
   "metadata": {},
   "source": [
    "# Load data"
   ]
  },
  {
   "cell_type": "markdown",
   "id": "a1be531b",
   "metadata": {},
   "source": [
    "## Nuclear fraction"
   ]
  },
  {
   "cell_type": "code",
   "execution_count": null,
   "id": "76997fbd",
   "metadata": {},
   "outputs": [],
   "source": [
    "vols = pd.read_csv(\n",
    "    os.path.join(\n",
    "    PATH, \"data_in\", \"230101_nuc_vol_F0-F7_updated.txt\"), delimiter=\"\\t\"\n",
    ")"
   ]
  },
  {
   "cell_type": "code",
   "execution_count": null,
   "id": "b7242953",
   "metadata": {},
   "outputs": [],
   "source": [
    "vols['nuc_frac'] = vols['nucleus_vol_um3'] / vols['cell_vol_um3']"
   ]
  },
  {
   "cell_type": "code",
   "execution_count": null,
   "id": "8bd8c261",
   "metadata": {},
   "outputs": [],
   "source": [
    "plt.scatter(vols['cell_vol_um3'], vols['nuc_frac'])"
   ]
  },
  {
   "cell_type": "markdown",
   "id": "9a6301dc",
   "metadata": {},
   "source": [
    "### Fitting the nuclear fraction"
   ]
  },
  {
   "cell_type": "code",
   "execution_count": null,
   "id": "60f74018",
   "metadata": {},
   "outputs": [],
   "source": [
    "offset=20"
   ]
  },
  {
   "cell_type": "code",
   "execution_count": null,
   "id": "67842613",
   "metadata": {},
   "outputs": [],
   "source": [
    "def nuc_frac_model(x, alpha, beta, delta): \n",
    "    return alpha + beta * np.exp(-delta * (x-offset))"
   ]
  },
  {
   "cell_type": "code",
   "execution_count": null,
   "id": "05ac0d7b",
   "metadata": {},
   "outputs": [],
   "source": [
    "# fit curve\n",
    "(alpha, beta, delta), _ = curve_fit(nuc_frac_model, vols['cell_vol_um3'], vols['nuc_frac'])"
   ]
  },
  {
   "cell_type": "markdown",
   "id": "9a9dd7bd",
   "metadata": {},
   "source": [
    "Parameters of the fit"
   ]
  },
  {
   "cell_type": "code",
   "execution_count": null,
   "id": "13094197",
   "metadata": {},
   "outputs": [],
   "source": [
    "alpha"
   ]
  },
  {
   "cell_type": "code",
   "execution_count": null,
   "id": "97518599",
   "metadata": {},
   "outputs": [],
   "source": [
    "beta"
   ]
  },
  {
   "cell_type": "code",
   "execution_count": null,
   "id": "b25aa7e6",
   "metadata": {},
   "outputs": [],
   "source": [
    "delta"
   ]
  },
  {
   "cell_type": "code",
   "execution_count": null,
   "id": "8e8a8052",
   "metadata": {},
   "outputs": [],
   "source": [
    "xs = np.linspace(10, 200, 100)\n",
    "\n",
    "plt.scatter(vols['cell_vol_um3'], vols['nuc_frac'])\n",
    "plt.plot(xs, nuc_frac_model(xs, alpha, beta, delta), ls = '--', lw=4, c='red')\n",
    "plt.xlabel(\"Cell Volume [um3]\")\n",
    "plt.ylabel(\"Nuclear Fraction [-]\")"
   ]
  },
  {
   "cell_type": "markdown",
   "id": "b340fe6a",
   "metadata": {},
   "source": [
    "## Bound RNA vs size"
   ]
  },
  {
   "cell_type": "markdown",
   "id": "0cfcc388",
   "metadata": {},
   "source": [
    "Load data"
   ]
  },
  {
   "cell_type": "code",
   "execution_count": null,
   "id": "b9811c24",
   "metadata": {},
   "outputs": [],
   "source": [
    "df_ChIP = pd.read_csv(\n",
    "    os.path.join(PATH, \"data_in\", '221108_ChIPdata_summary.txt'), \n",
    "    delimiter='\\t').dropna(axis=1)\n",
    "df_ChIP = df_ChIP.rename(columns={c: c.strip() for c in df_ChIP.columns})"
   ]
  },
  {
   "cell_type": "code",
   "execution_count": null,
   "id": "a091e559",
   "metadata": {},
   "outputs": [],
   "source": [
    "df_SMT = pd.read_csv(\n",
    "    os.path.join(PATH, \"data_in\", '221108_SMTdata_summary.txt'), \n",
    "    delimiter='\\t'\n",
    ").dropna(axis=1)"
   ]
  },
  {
   "cell_type": "code",
   "execution_count": null,
   "id": "95581456",
   "metadata": {},
   "outputs": [],
   "source": [
    "df_146 = pd.read_csv(\n",
    "    os.path.join(PATH, \"data_in\", '230122_cell_size_mutant_ChIPdata_summary.txt'), \n",
    "    delimiter='\\t', usecols=[1, 2]\n",
    ").dropna(axis=0)"
   ]
  },
  {
   "cell_type": "code",
   "execution_count": null,
   "id": "f37c0647",
   "metadata": {},
   "outputs": [],
   "source": [
    "df_146.rename(\n",
    "    columns={df_146.columns[0]: col_vol, \n",
    "    df_146.columns[1]: col_RNA}, \n",
    "    inplace=True\n",
    ")"
   ]
  },
  {
   "cell_type": "code",
   "execution_count": null,
   "id": "f3ce2b66",
   "metadata": {},
   "outputs": [],
   "source": [
    "df_146"
   ]
  },
  {
   "cell_type": "markdown",
   "id": "87f8c4d4",
   "metadata": {},
   "source": [
    "## Fitting functions"
   ]
  },
  {
   "cell_type": "code",
   "execution_count": null,
   "id": "2cc2e80f",
   "metadata": {},
   "outputs": [],
   "source": [
    "def nuc_vol_lin(x):\n",
    "    return  0.038 * x + 0.55"
   ]
  },
  {
   "cell_type": "code",
   "execution_count": null,
   "id": "c5d6d46f",
   "metadata": {},
   "outputs": [],
   "source": [
    "def obj1(x, a, b): \n",
    "    \"\"\"Initial model with constant nuclear fraction\"\"\"\n",
    "    return a*(x/b)/(1+x*b)\n",
    "\n",
    "def obj2(x, a, b): \n",
    "    \"\"\"Model with nuclear fraction decreasing as 1/x\"\"\"\n",
    "    nuclear_volume = nuc_vol_lin(x)\n",
    "    return a * (x/b) / (1 + b * nuclear_volume)\n",
    "\n",
    "def obj3(x, a, b):\n",
    "    \"\"\"Model with nuclear fraction decreasing as exp(-delta*x)\"\"\"\n",
    "    nuc_volume = x * (alpha + beta * np.exp(-delta * (x-offset)))\n",
    "    return a * (x/b) / (1 + b * nuc_volume)"
   ]
  },
  {
   "cell_type": "code",
   "execution_count": null,
   "id": "5dbe2fa9",
   "metadata": {},
   "outputs": [],
   "source": [
    "models = ['Constant nuclear fraction', 'Nuclear fraction as 1/x', 'Nuclear fraction as exp(-delta*x)']"
   ]
  },
  {
   "cell_type": "markdown",
   "id": "932176f4",
   "metadata": {},
   "source": [
    "# Fitting Haploid data"
   ]
  },
  {
   "cell_type": "code",
   "execution_count": null,
   "id": "cb5f0b9a",
   "metadata": {},
   "outputs": [],
   "source": [
    "df_hap = df_ChIP.loc[df_ChIP['strain']==\"MS64\"]"
   ]
  },
  {
   "cell_type": "code",
   "execution_count": null,
   "id": "d7261319",
   "metadata": {},
   "outputs": [],
   "source": [
    "# fit curve\n",
    "(a1, b1), _ = curve_fit(obj1, df_hap[col_vol], df_hap[col_RNA])\n",
    "\n",
    "(a2, b2), _ = curve_fit(obj2, df_hap[col_vol], df_hap[col_RNA])\n",
    "\n",
    "(a3, b3), _ = curve_fit(obj3, df_hap[col_vol], df_hap[col_RNA])\n",
    "\n",
    "params_fit=[(a1, b1), (a2, b2), (a3, b3)]"
   ]
  },
  {
   "cell_type": "code",
   "execution_count": null,
   "id": "02aa8a89",
   "metadata": {},
   "outputs": [],
   "source": [
    "# define new input values\n",
    "x_new = np.linspace(1,230,300)\n",
    "\n",
    "# use optimal parameters to calculate new values\n",
    "y1 = obj1(x_new, a1, b1)\n",
    "y2 = obj2(x_new, a2, b2)\n",
    "y3 = obj3(x_new, a3, b3)\n",
    "\n",
    "ys = [y1, y2, y3]"
   ]
  },
  {
   "cell_type": "code",
   "execution_count": null,
   "id": "10676e5b",
   "metadata": {},
   "outputs": [],
   "source": [
    "fig = plt.figure()\n",
    "plt.plot(df_hap[col_vol], df_hap[col_RNA], 'ro', label='Replicates')\n",
    "plt.plot(x_new, y1, 'r')\n",
    "plt.plot(x_new, y2, 'g--')\n",
    "plt.plot(x_new, y3, 'b--')\n",
    "\n",
    "plt.xlabel('cell size (fl)')\n",
    "plt.ylabel('DNA bound RNA Pol II')\n",
    "\n",
    "plt.legend()\n",
    "plt.grid()"
   ]
  },
  {
   "cell_type": "markdown",
   "id": "592ec8f8",
   "metadata": {},
   "source": [
    "## Validating on diploid data"
   ]
  },
  {
   "cell_type": "code",
   "execution_count": null,
   "id": "05faf5ca",
   "metadata": {},
   "outputs": [],
   "source": [
    "df_dip = df_ChIP.loc[df_ChIP['strain']=='MS67']"
   ]
  },
  {
   "cell_type": "code",
   "execution_count": null,
   "id": "a98a00ce",
   "metadata": {},
   "outputs": [],
   "source": [
    "fig = plt.figure()\n",
    "plt.scatter(df_dip[col_vol], df_dip[col_RNA])\n",
    "\n",
    "y1_dip = obj1(x_new, a1/2, b1/2)\n",
    "y2_dip = obj2(x_new, a2/2, b2/2)\n",
    "y3_dip = obj3(x_new, a3/2, b3/2)\n",
    "\n",
    "ys_dip = [y1_dip, y2_dip, y3_dip]\n",
    "\n",
    "plt.plot(x_new, y1_dip)\n",
    "plt.plot(x_new, y2_dip)\n",
    "plt.plot(x_new, y3_dip)"
   ]
  },
  {
   "cell_type": "markdown",
   "id": "6735eaf2",
   "metadata": {},
   "source": [
    "## Predicting on a range of values for DNA content"
   ]
  },
  {
   "cell_type": "code",
   "execution_count": null,
   "id": "1148bfc1",
   "metadata": {},
   "outputs": [],
   "source": [
    "DNA_content = [1.2, 1.4, 1.46, 1.6, 1.8,]\n",
    "# DNA_content=[1.46]\n",
    "\n",
    "fig = plt.figure()\n",
    "for DNAc in DNA_content:\n",
    "    plt.plot(x_new, obj3(x_new, a3/DNAc, b3/DNAc), label=f\"DNA = {DNAc}\")\n",
    "plt.xlabel(\"cell size\")\n",
    "plt.ylabel(\"Occ\")\n",
    "plt.legend()"
   ]
  },
  {
   "cell_type": "markdown",
   "id": "6d4cf4b2",
   "metadata": {},
   "source": [
    "## Fitting for DNA=1.46"
   ]
  },
  {
   "cell_type": "code",
   "execution_count": null,
   "id": "6d6873d3",
   "metadata": {},
   "outputs": [],
   "source": [
    "df_146"
   ]
  },
  {
   "cell_type": "code",
   "execution_count": null,
   "id": "a1922513",
   "metadata": {},
   "outputs": [],
   "source": [
    "(a146, b146), _ = curve_fit(obj3, df_146[col_vol], df_146[col_RNA])"
   ]
  },
  {
   "cell_type": "code",
   "execution_count": null,
   "id": "6456490c",
   "metadata": {},
   "outputs": [],
   "source": [
    "y146 = obj3(x_new, a146, b146)\n",
    "\n",
    "y1_146 = obj3(x_new, a146 * 1.46, b146 * 1.46)\n",
    "y2_146 = obj3(x_new, a146 * 1.46/2, b146 * 1.46/2)"
   ]
  },
  {
   "cell_type": "code",
   "execution_count": null,
   "id": "8c69faa4",
   "metadata": {},
   "outputs": [],
   "source": [
    "plt.scatter(df_146[col_vol], df_146[col_RNA])\n",
    "plt.plot(x_new, y146, \"--\", label=\"fit DNA=1.46\")\n",
    "\n",
    "plt.plot(x_new, y1_146, label=\"pred DNA=1\")\n",
    "plt.plot(x_new, y2_146, label=\"pred DNA=2\")\n",
    "\n",
    "# plt.scatter(df_dip[col_vol], df_dip[col_RNA])\n",
    "# plt.scatter(df_hap[col_vol], df_hap[col_RNA])\n",
    "\n",
    "plt.legend()\n",
    "plt.grid()\n",
    "plt.xlabel(\"Cell size [fL]\")\n",
    "plt.ylabel(\"Occ\")"
   ]
  },
  {
   "cell_type": "markdown",
   "id": "85f25fd9",
   "metadata": {},
   "source": [
    "# Predicting the single molecule data"
   ]
  },
  {
   "cell_type": "code",
   "execution_count": null,
   "id": "e44b8b3f",
   "metadata": {},
   "outputs": [],
   "source": [
    "col_RNA_frac = 'Rpb1_bound_fraction_mean'"
   ]
  },
  {
   "cell_type": "code",
   "execution_count": null,
   "id": "a0525836",
   "metadata": {},
   "outputs": [],
   "source": [
    "# setting the axes at the centre\n",
    "fig = plt.figure()\n",
    "\n",
    "# plot the function\n",
    "plt.plot(df_SMT[col_vol], df_SMT[col_RNA_frac], 'go', label=\"data\")\n",
    "\n",
    "err1 = np.sqrt(np.mean((obj1(df_SMT[col_vol], a1, b1)/(a1*df_SMT[col_vol]/b1) - df_SMT[col_RNA_frac])**2))\n",
    "plt.plot(x_new, y1/(a1*x_new/b1), 'r', label=f\"constant nuclear fraction, err={np.around(err1, decimals=3)}\")\n",
    "\n",
    "err2 = np.sqrt(np.mean((obj2(df_SMT[col_vol], a2, b2)/(a2*df_SMT[col_vol]/b2) - df_SMT[col_RNA_frac])**2))\n",
    "plt.plot(x_new, y2/(a2*x_new/b2), label=f\"1/x nuclear fraction, err={np.around(err2, decimals=3)}\")\n",
    "\n",
    "err3 = np.sqrt(np.mean((obj3(df_SMT[col_vol], a3, b3)/(a3*df_SMT[col_vol]/b3) - df_SMT[col_RNA_frac])**2))\n",
    "plt.plot(x_new, y3/(a3*x_new/b3), label=f\"exponential nuclear fraction, err={np.around(err3, decimals=3)}\")\n",
    "\n",
    "plt.legend()\n",
    "plt.grid()\n",
    "plt.xlabel('cell size (fl)')\n",
    "plt.ylabel('RNAP II bound fraction')\n",
    "plt.xlim([15, 175])\n"
   ]
  },
  {
   "cell_type": "markdown",
   "id": "fb136215",
   "metadata": {},
   "source": [
    "# Bootstrap fitting on the parameters"
   ]
  },
  {
   "cell_type": "code",
   "execution_count": null,
   "id": "176506cc",
   "metadata": {},
   "outputs": [],
   "source": [
    "bag_size = 7\n",
    "n_fits = 100\n",
    "\n",
    "params = {1: {'a': [], 'b': []}, 2: {'a': [], 'b': []}, 3: {'a': [], 'b': []}}\n",
    "preds = {1: [], 2: [], 3: []}\n",
    "SMT_preds = {1: [], 2: [], 3: []}\n",
    "DIP_preds = {1: [], 2: [], 3: []}\n",
    "\n",
    "objs = [obj1, obj2, obj3]\n",
    "\n",
    "for _ in range(n_fits):\n",
    "    \n",
    "    idx = np.random.choice(len(df_hap), bag_size)\n",
    "    \n",
    "    x_crt = df_hap[col_vol].iloc[idx].values\n",
    "    y_crt = df_hap[col_RNA].iloc[idx].values\n",
    "    \n",
    "    for (k, obj) in enumerate(objs):\n",
    "        (a, b), _ = curve_fit(obj, x_crt, y_crt)\n",
    "        params[k+1]['a'].append(a)\n",
    "        params[k+1]['b'].append(b)\n",
    "        y = obj(x_new, a, b)\n",
    "        preds[k+1].append(y.reshape(-1, 1))\n",
    "        SMT_preds[k+1].append((y/(a * x_new/b)).reshape(-1, 1))\n",
    "        DIP_preds[k+1].append((obj(x_new, a/2, b/2)).reshape(-1, 1))"
   ]
  },
  {
   "cell_type": "code",
   "execution_count": null,
   "id": "981449eb",
   "metadata": {},
   "outputs": [],
   "source": [
    "# plotting the quantiles of the predictions\n",
    "quantiles = [.1, .5, .9]\n",
    "\n",
    "_, ax = plt.subplots(1, 3, figsize=(15, 4))\n",
    "\n",
    "for k in range(3):\n",
    "    Qs = [np.quantile(np.concatenate(preds[k+1], axis=1), q, axis=1) for q in quantiles]\n",
    "    \n",
    "    for Q in Qs: \n",
    "        ax[k].plot(x_new, Q, color='gray')\n",
    "    ax[k].scatter(df_hap[col_vol], df_hap[col_RNA])\n",
    "    \n",
    "    ax[k].set_title(f\"Model {k+1}\")\n",
    "    ax[k].grid()"
   ]
  },
  {
   "cell_type": "markdown",
   "id": "437ac0f8",
   "metadata": {},
   "source": [
    "# CIs for the SMT data"
   ]
  },
  {
   "cell_type": "code",
   "execution_count": null,
   "id": "45e7ade5",
   "metadata": {},
   "outputs": [],
   "source": [
    "# quantiles of the SMT predictions\n",
    "\n",
    "SMT_Qs = {1: [], 2: [], 3: []}\n",
    "quantiles_SMT = [.1, .9]\n",
    "\n",
    "for k in range(3):\n",
    "    SMT_Qs[k+1] = [np.quantile(np.concatenate(SMT_preds[k+1], axis=1), q, axis=1) for q in quantiles_SMT]"
   ]
  },
  {
   "cell_type": "code",
   "execution_count": null,
   "id": "6ccc7696",
   "metadata": {},
   "outputs": [],
   "source": [
    "COLORS = ['firebrick', 'forestgreen', 'darkblue']\n",
    "alpha_plot=.2"
   ]
  },
  {
   "cell_type": "code",
   "execution_count": null,
   "id": "de133303",
   "metadata": {},
   "outputs": [],
   "source": [
    "for k in range(3):\n",
    "    \n",
    "\n",
    "    plt.fill_between(x_new, SMT_Qs[k+1][0], SMT_Qs[k+1][1], \n",
    "                     color = COLORS[k], alpha=alpha_plot\n",
    "                    )\n",
    "    plt.plot(\n",
    "        x_new, ys[k]/(params_fit[k][0]*x_new/params_fit[k][1]), c=COLORS[k], \n",
    "        label=\"constant nuclear fraction\"\n",
    "    )\n",
    "        \n",
    "        \n",
    "# plot the function\n",
    "plt.scatter(df_SMT[col_vol], df_SMT[col_RNA_frac], color='black', label=\"data\")\n",
    "\n",
    "plt.legend()\n",
    "plt.grid()\n",
    "plt.xlabel('cell size (fl)')\n",
    "plt.ylabel('RNAP II bound fraction')\n",
    "plt.xlim([15, 175])"
   ]
  },
  {
   "cell_type": "code",
   "execution_count": null,
   "id": "b8a10199",
   "metadata": {},
   "outputs": [],
   "source": [
    "_, ax = plt.subplots(1, 3, figsize=(15, 4))\n",
    "\n",
    "for k in range(3):\n",
    "    \n",
    "    ax[k].fill_between(x_new, SMT_Qs[k+1][0], SMT_Qs[k+1][1], \n",
    "                     color = COLORS[k], alpha=alpha_plot\n",
    "                    )\n",
    "    ax[k].plot(\n",
    "        x_new, ys[k]/(params_fit[k][0]*x_new/params_fit[k][1]), c=COLORS[k], \n",
    "        label=\"constant nuclear fraction\"\n",
    "    )\n",
    "        \n",
    "        \n",
    "    # plot the function\n",
    "    ax[k].scatter(df_SMT[col_vol], df_SMT[col_RNA_frac], color='black', label=\"data\")\n",
    "\n",
    "#     plt.legend()\n",
    "    ax[k].grid()\n",
    "    ax[k].set_xlabel('cell size (fl)')\n",
    "    ax[k].set_ylabel('RNAP II bound fraction')\n",
    "    ax[k].set_xlim([15, 175])\n",
    "    ax[k].set_ylim([0, 1])\n",
    "    ax[k].set_title(models[k])\n"
   ]
  },
  {
   "cell_type": "markdown",
   "id": "efcb1061",
   "metadata": {},
   "source": [
    "# CIs on diploid data"
   ]
  },
  {
   "cell_type": "code",
   "execution_count": null,
   "id": "ce789d68",
   "metadata": {},
   "outputs": [],
   "source": [
    "# quantiles of the SMT predictions\n",
    "\n",
    "DIP_Qs = {1: [], 2: [], 3: []}\n",
    "quantiles_DIP = [.1, .9]\n",
    "\n",
    "for k in range(3):\n",
    "    DIP_Qs[k+1] = [np.quantile(np.concatenate(DIP_preds[k+1], axis=1), q, axis=1) for q in quantiles_DIP]"
   ]
  },
  {
   "cell_type": "code",
   "execution_count": null,
   "id": "dad59841",
   "metadata": {},
   "outputs": [],
   "source": [
    "_, ax = plt.subplots(1, 3, figsize=(15, 4))\n",
    "\n",
    "for k in range(3):\n",
    "    \n",
    "    ax[k].fill_between(x_new, DIP_Qs[k+1][0], DIP_Qs[k+1][1], \n",
    "                     color = COLORS[k], alpha=alpha_plot\n",
    "                    )\n",
    "    ax[k].plot(\n",
    "        x_new, ys_dip[k], c=COLORS[k], \n",
    "        label=\"constant nuclear fraction\"\n",
    "    )\n",
    "        \n",
    "        \n",
    "    # plot the function\n",
    "    ax[k].scatter(df_dip[col_vol], df_dip[col_RNA], color='black', label=\"data\")\n",
    "\n",
    "#     plt.legend()\n",
    "    ax[k].grid()\n",
    "    ax[k].set_xlabel('cell size (fl)')\n",
    "    ax[k].set_ylabel('RNAP II bound fraction')\n",
    "#     ax[k].set_xlim([15, 175])\n",
    "#     ax[k].set_ylim([0, 1])\n",
    "    ax[k].set_title(models[k])\n"
   ]
  },
  {
   "cell_type": "markdown",
   "id": "c21a5057",
   "metadata": {},
   "source": [
    "## CIs on data with variable DNA content"
   ]
  },
  {
   "cell_type": "code",
   "execution_count": null,
   "id": "e6c49b91",
   "metadata": {},
   "outputs": [],
   "source": [
    "var_DNA_preds = {}\n",
    "var_DNA_qs = {}\n",
    "quantiles_var_DNA = [.1, .5, .9]\n",
    "\n",
    "for DNAc in DNA_content:\n",
    "    var_DNA_preds[DNAc] = {1: [], 2: [], 3: []}\n",
    "    var_DNA_qs[DNAc] = {1: [], 2: [], 3: []}\n",
    "    \n",
    "    for (k, obj) in enumerate(objs): #iterate over the model\n",
    "        for (a, b) in zip(params[k+1]['a'], params[k+1]['b']):\n",
    "            var_DNA_preds[DNAc][k+1].append((obj(x_new, a/DNAc, b/DNAc)).reshape(-1, 1))\n",
    "            \n",
    "        var_DNA_qs[DNAc][k+1] = [np.quantile(np.concatenate(var_DNA_preds[DNAc][k+1], axis=1), q, axis=1) for q in quantiles_var_DNA]"
   ]
  },
  {
   "cell_type": "code",
   "execution_count": null,
   "id": "fdad9eb1",
   "metadata": {},
   "outputs": [],
   "source": [
    "fig = plt.figure()\n",
    "\n",
    "for DNAc in DNA_content:\n",
    "    plt.plot(x_new, var_DNA_qs[DNAc][3][1], label=f\"DNA = {DNAc}\")\n",
    "    plt.fill_between(x_new, var_DNA_qs[DNAc][3][0], var_DNA_qs[DNAc][3][2], alpha=.2)\n",
    "    \n",
    "plt.legend()\n",
    "plt.xlabel(\"cell size\")\n",
    "plt.ylabel(\"Rpb1\")\n",
    "plt.grid()"
   ]
  },
  {
   "cell_type": "markdown",
   "id": "88749960",
   "metadata": {},
   "source": [
    "# Export files"
   ]
  },
  {
   "cell_type": "markdown",
   "id": "5b4d7b1a",
   "metadata": {},
   "source": [
    "Files are exported in the `data_out` subdirectory in `DATADIR`."
   ]
  },
  {
   "cell_type": "code",
   "execution_count": null,
   "id": "bb2fe2f7",
   "metadata": {},
   "outputs": [],
   "source": [
    "model_names = ['constant_nuclear_fraction', 'linear_nuclear_fraction', 'exp_nuclear_fraction']"
   ]
  },
  {
   "cell_type": "code",
   "execution_count": null,
   "id": "fcd4cc0a",
   "metadata": {},
   "outputs": [],
   "source": [
    "for (k, model) in enumerate(model_names): \n",
    "    df_final = pd.DataFrame()\n",
    "    df_final.index = x_new\n",
    "    df_final.index.rename('cell_volume_fL', inplace=True)\n",
    "    \n",
    "    df_final['Rpb1_occupancy_haploid_fit'] = ys[k]\n",
    "    df_final['Rpb1_occupancy_haploid_fit_10pc'] = 0\n",
    "    df_final['Rpb1_occupancy_haploid_fit_90pc'] = 0\n",
    "    \n",
    "    df_final['Rpb1_occupancy_diploid_prediction'] = ys_dip[k]\n",
    "    df_final['Rpb1_occupancy_diploid_prediction_10pc'] = DIP_Qs[k+1][0]\n",
    "    df_final['Rpb1_occupancy_diploid_prediction_90pc'] = DIP_Qs[k+1][1]\n",
    "    \n",
    "    for DNAc in DNA_content:\n",
    "        \n",
    "        df_final[f\"Rpb1_occupancy_DNA{DNAc}_prediction_10pc\"] = var_DNA_qs[DNAc][k+1][0]\n",
    "        df_final[f\"Rpb1_occupancy_DNA{DNAc}_prediction_50pc\"] = var_DNA_qs[DNAc][k+1][1]\n",
    "        df_final[f\"Rpb1_occupancy_DNA{DNAc}_prediction_90pc\"] = var_DNA_qs[DNAc][k+1][2]\n",
    "    \n",
    "    df_final['Rpb1_bound_fraction_haploid_prediction'] = ys[k]/(params_fit[k][0] * x_new/params_fit[k][1])\n",
    "    df_final['Rpb1_bound_fraction_haploid_prediction_10pc'] = SMT_Qs[k+1][0]\n",
    "    df_final['Rpb1_bound_fraction_haploid_prediction_90pc'] = SMT_Qs[k+1][1]\n",
    "    \n",
    "    if model==\"exp_nuclear_fraction\":\n",
    "        df_final['Rpb1_occupancy_DNA1.46_fit'] = y146\n",
    "        df_final['Rpb1_occupancy_DNA1.46_prediction_haploid'] = y1_146\n",
    "        df_final['Rpb1_occupancy_DNA1.46_prediction_diploid'] = y2_146\n",
    "    \n",
    "    \n",
    "    if k==0:\n",
    "        nuc_vol = \"?\"\n",
    "        nuc_frac = \"C\"\n",
    "    elif k==1:\n",
    "        nuc_vol = nuc_vol_lin(x_new)\n",
    "        nuc_frac = nuc_vol/x_new\n",
    "    elif k==2:\n",
    "        nuc_vol = nuc_frac_model(x_new, alpha, beta, delta) * x_new\n",
    "        nuc_frac = nuc_vol/x_new\n",
    "        \n",
    "    df_final['nuclear_fraction'] = nuc_frac\n",
    "    df_final['nuclear_volume'] = nuc_vol\n",
    "    \n",
    "    df_final.to_csv(\n",
    "        os.path.join(PATH, \"data_out\", f\"data_{model}.csv\")\n",
    "    )"
   ]
  }
 ],
 "metadata": {
  "kernelspec": {
   "display_name": "Python 3 (ipykernel)",
   "language": "python",
   "name": "python3"
  },
  "language_info": {
   "codemirror_mode": {
    "name": "ipython",
    "version": 3
   },
   "file_extension": ".py",
   "mimetype": "text/x-python",
   "name": "python",
   "nbconvert_exporter": "python",
   "pygments_lexer": "ipython3",
   "version": "3.10.4"
  },
  "toc": {
   "base_numbering": 1,
   "nav_menu": {},
   "number_sections": true,
   "sideBar": true,
   "skip_h1_title": false,
   "title_cell": "Table of Contents",
   "title_sidebar": "Contents",
   "toc_cell": true,
   "toc_position": {
    "height": "calc(100% - 180px)",
    "left": "10px",
    "top": "150px",
    "width": "203px"
   },
   "toc_section_display": true,
   "toc_window_display": true
  }
 },
 "nbformat": 4,
 "nbformat_minor": 5
}
