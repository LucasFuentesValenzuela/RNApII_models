{
 "cells": [
  {
   "cell_type": "markdown",
   "id": "51fe9c74",
   "metadata": {
    "toc": true
   },
   "source": [
    "<h1>Table of Contents<span class=\"tocSkip\"></span></h1>\n",
    "<div class=\"toc\"><ul class=\"toc-item\"><li><span><a href=\"#Load-data\" data-toc-modified-id=\"Load-data-1\"><span class=\"toc-item-num\">1&nbsp;&nbsp;</span>Load data</a></span><ul class=\"toc-item\"><li><span><a href=\"#Nuclear-fraction\" data-toc-modified-id=\"Nuclear-fraction-1.1\"><span class=\"toc-item-num\">1.1&nbsp;&nbsp;</span>Nuclear fraction</a></span><ul class=\"toc-item\"><li><span><a href=\"#Fitting-the-nuclear-fraction\" data-toc-modified-id=\"Fitting-the-nuclear-fraction-1.1.1\"><span class=\"toc-item-num\">1.1.1&nbsp;&nbsp;</span>Fitting the nuclear fraction</a></span></li></ul></li><li><span><a href=\"#Bound-RNA-vs-size\" data-toc-modified-id=\"Bound-RNA-vs-size-1.2\"><span class=\"toc-item-num\">1.2&nbsp;&nbsp;</span>Bound RNA vs size</a></span></li><li><span><a href=\"#Fitting-functions\" data-toc-modified-id=\"Fitting-functions-1.3\"><span class=\"toc-item-num\">1.3&nbsp;&nbsp;</span>Fitting functions</a></span></li></ul></li><li><span><a href=\"#Fitting-Haploid-data\" data-toc-modified-id=\"Fitting-Haploid-data-2\"><span class=\"toc-item-num\">2&nbsp;&nbsp;</span>Fitting Haploid data</a></span><ul class=\"toc-item\"><li><span><a href=\"#Validating-on-diploid-data\" data-toc-modified-id=\"Validating-on-diploid-data-2.1\"><span class=\"toc-item-num\">2.1&nbsp;&nbsp;</span>Validating on diploid data</a></span></li></ul></li><li><span><a href=\"#Predicting-the-single-molecule-data\" data-toc-modified-id=\"Predicting-the-single-molecule-data-3\"><span class=\"toc-item-num\">3&nbsp;&nbsp;</span>Predicting the single molecule data</a></span></li><li><span><a href=\"#Bootstrap-fitting-on-the-parameters\" data-toc-modified-id=\"Bootstrap-fitting-on-the-parameters-4\"><span class=\"toc-item-num\">4&nbsp;&nbsp;</span>Bootstrap fitting on the parameters</a></span></li><li><span><a href=\"#CIs-for-the-SMT-data\" data-toc-modified-id=\"CIs-for-the-SMT-data-5\"><span class=\"toc-item-num\">5&nbsp;&nbsp;</span>CIs for the SMT data</a></span></li><li><span><a href=\"#CIs-on-diploid-data\" data-toc-modified-id=\"CIs-on-diploid-data-6\"><span class=\"toc-item-num\">6&nbsp;&nbsp;</span>CIs on diploid data</a></span></li><li><span><a href=\"#Export-files\" data-toc-modified-id=\"Export-files-7\"><span class=\"toc-item-num\">7&nbsp;&nbsp;</span>Export files</a></span></li></ul></div>"
   ]
  },
  {
   "cell_type": "code",
   "execution_count": null,
   "id": "5279e7af",
   "metadata": {},
   "outputs": [],
   "source": [
    "import numpy as np\n",
    "import pandas as pd\n",
    "import matplotlib.pyplot as plt"
   ]
  },
  {
   "cell_type": "code",
   "execution_count": null,
   "id": "520828f5",
   "metadata": {},
   "outputs": [],
   "source": [
    "from scipy.optimize import curve_fit"
   ]
  },
  {
   "cell_type": "markdown",
   "id": "4783d998",
   "metadata": {},
   "source": [
    "# Load data"
   ]
  },
  {
   "cell_type": "markdown",
   "id": "844e6832",
   "metadata": {},
   "source": [
    "## Nuclear fraction"
   ]
  },
  {
   "cell_type": "code",
   "execution_count": null,
   "id": "31db3abd",
   "metadata": {},
   "outputs": [],
   "source": [
    "vols = pd.read_csv(\"nuc_vol.txt\", delimiter=\"\\t\", header=None)"
   ]
  },
  {
   "cell_type": "code",
   "execution_count": null,
   "id": "a23ad597",
   "metadata": {},
   "outputs": [],
   "source": [
    "COL_RENAME = {0: 'cell_volume', 1: 'nuclear_volume'}"
   ]
  },
  {
   "cell_type": "code",
   "execution_count": null,
   "id": "79c93f2d",
   "metadata": {},
   "outputs": [],
   "source": [
    "vols=vols.rename(columns = COL_RENAME)"
   ]
  },
  {
   "cell_type": "code",
   "execution_count": null,
   "id": "13815789",
   "metadata": {},
   "outputs": [],
   "source": [
    "vols['cell_volume'] = vols['cell_volume']/1.5"
   ]
  },
  {
   "cell_type": "code",
   "execution_count": null,
   "id": "d4392b61",
   "metadata": {},
   "outputs": [],
   "source": [
    "vols['nuc_frac'] = vols['nuclear_volume']/vols['cell_volume']"
   ]
  },
  {
   "cell_type": "markdown",
   "id": "24b54bdf",
   "metadata": {},
   "source": [
    "### Fitting the nuclear fraction"
   ]
  },
  {
   "cell_type": "code",
   "execution_count": null,
   "id": "450b688b",
   "metadata": {},
   "outputs": [],
   "source": [
    "offset=15"
   ]
  },
  {
   "cell_type": "code",
   "execution_count": null,
   "id": "9490f0aa",
   "metadata": {},
   "outputs": [],
   "source": [
    "def nuc_frac_model(x, alpha, beta, delta): \n",
    "    return alpha + beta * np.exp(-delta * (x-offset))"
   ]
  },
  {
   "cell_type": "code",
   "execution_count": null,
   "id": "d5383b7b",
   "metadata": {},
   "outputs": [],
   "source": [
    "# fit curve\n",
    "(alpha, beta, delta), _ = curve_fit(nuc_frac_model, vols['cell_volume'], vols['nuc_frac'])"
   ]
  },
  {
   "cell_type": "code",
   "execution_count": null,
   "id": "6491e070",
   "metadata": {},
   "outputs": [],
   "source": [
    "xs = np.linspace(10, 200, 100)\n",
    "\n",
    "plt.scatter(vols['cell_volume'], vols['nuc_frac'])\n",
    "plt.plot(xs, nuc_frac_model(xs, alpha, beta, delta), ls = '--', lw=4, c='red')"
   ]
  },
  {
   "cell_type": "markdown",
   "id": "459c8360",
   "metadata": {},
   "source": [
    "## Bound RNA vs size"
   ]
  },
  {
   "cell_type": "code",
   "execution_count": null,
   "id": "6d5b33c2",
   "metadata": {},
   "outputs": [],
   "source": [
    "df_ChIP = pd.read_csv('221108_ChIPdata_summary.txt', delimiter='\\t').dropna(axis=1)\n",
    "df_ChIP = df_ChIP.rename(columns={c: c.strip() for c in df_ChIP.columns})"
   ]
  },
  {
   "cell_type": "code",
   "execution_count": null,
   "id": "fda255d5",
   "metadata": {},
   "outputs": [],
   "source": [
    "df_SMT = pd.read_csv('221108_SMTdata_summary.txt', delimiter='\\t').dropna(axis=1)"
   ]
  },
  {
   "cell_type": "code",
   "execution_count": null,
   "id": "7fb62af9",
   "metadata": {},
   "outputs": [],
   "source": [
    "df_ChIP"
   ]
  },
  {
   "cell_type": "code",
   "execution_count": null,
   "id": "f8e923ac",
   "metadata": {},
   "outputs": [],
   "source": [
    "df_SMT"
   ]
  },
  {
   "cell_type": "markdown",
   "id": "9c9d9e44",
   "metadata": {},
   "source": [
    "## Fitting functions"
   ]
  },
  {
   "cell_type": "code",
   "execution_count": null,
   "id": "ca3080ff",
   "metadata": {},
   "outputs": [],
   "source": [
    "def obj1(x, a, b): \n",
    "    \"\"\"Initial model with constant nuclear fraction\"\"\"\n",
    "    return a*(x/b)/(1+x*b)\n",
    "\n",
    "def obj2(x, a, b): \n",
    "    \"\"\"Model with nuclear fraction decreasing as 1/x\"\"\"\n",
    "    nuclear_volume = 0.038 * x + 0.55\n",
    "    return a * (x/b) / (1 + b * nuclear_volume)\n",
    "\n",
    "def obj3(x, a, b):\n",
    "    \"\"\"Model with nuclear fraction decreasing as exp(-delta*x)\"\"\"\n",
    "    nuc_volume = x * (alpha + beta * np.exp(-delta * (x-offset)))\n",
    "    return a * (x/b) / (1 + b * nuc_volume)"
   ]
  },
  {
   "cell_type": "code",
   "execution_count": null,
   "id": "fc8b7c83",
   "metadata": {},
   "outputs": [],
   "source": [
    "models = ['Constant nuclear fraction', 'Nuclear fraction as 1/x', 'Nuclear fraction as exp(-delta*x)']"
   ]
  },
  {
   "cell_type": "markdown",
   "id": "ddd203ef",
   "metadata": {},
   "source": [
    "# Fitting Haploid data"
   ]
  },
  {
   "cell_type": "code",
   "execution_count": null,
   "id": "d2bb6948",
   "metadata": {},
   "outputs": [],
   "source": [
    "df_hap = df_ChIP.loc[df_ChIP['strain']==\"MS64\"]"
   ]
  },
  {
   "cell_type": "code",
   "execution_count": null,
   "id": "14583434",
   "metadata": {},
   "outputs": [],
   "source": [
    "col_vol = 'cell_volume_fL'\n",
    "col_RNA = 'Rpb1_occupancy_ChIP-seq'"
   ]
  },
  {
   "cell_type": "code",
   "execution_count": null,
   "id": "9889594b",
   "metadata": {},
   "outputs": [],
   "source": [
    "# fit curve\n",
    "(a1, b1), _ = curve_fit(obj1, df_hap[col_vol], df_hap[col_RNA])\n",
    "\n",
    "(a2, b2), _ = curve_fit(obj2, df_hap[col_vol], df_hap[col_RNA])\n",
    "\n",
    "(a3, b3), _ = curve_fit(obj3, df_hap[col_vol], df_hap[col_RNA])\n",
    "\n",
    "params_fit=[(a1, b1), (a2, b2), (a3, b3)]"
   ]
  },
  {
   "cell_type": "code",
   "execution_count": null,
   "id": "04bd66c6",
   "metadata": {},
   "outputs": [],
   "source": [
    "# define new input values\n",
    "x_new = np.linspace(1,230,100)\n",
    "\n",
    "# use optimal parameters to calculate new values\n",
    "y1= obj1(x_new, a1, b1)\n",
    "y2 = obj2(x_new, a2, b2)\n",
    "y3 = obj3(x_new, a3, b3)\n",
    "\n",
    "ys = [y1, y2, y3]"
   ]
  },
  {
   "cell_type": "code",
   "execution_count": null,
   "id": "65c2df23",
   "metadata": {},
   "outputs": [],
   "source": [
    "fig = plt.figure()\n",
    "plt.plot(df_hap[col_vol], df_hap[col_RNA], 'ro', label='Replicates')\n",
    "plt.plot(x_new, y1, 'r')\n",
    "plt.plot(x_new, y2, 'g--')\n",
    "plt.plot(x_new, y3, 'b--')\n",
    "\n",
    "plt.xlabel('cell size (fl)')\n",
    "plt.ylabel('DNA bound RNA Pol II')\n",
    "\n",
    "plt.legend()\n",
    "plt.grid()"
   ]
  },
  {
   "cell_type": "markdown",
   "id": "6159768b",
   "metadata": {},
   "source": [
    "## Validating on diploid data"
   ]
  },
  {
   "cell_type": "code",
   "execution_count": null,
   "id": "17b4c4db",
   "metadata": {},
   "outputs": [],
   "source": [
    "df_dip = df_ChIP.loc[df_ChIP['strain']=='MS67']"
   ]
  },
  {
   "cell_type": "code",
   "execution_count": null,
   "id": "0eb51889",
   "metadata": {},
   "outputs": [],
   "source": [
    "fig = plt.figure()\n",
    "plt.scatter(df_dip[col_vol], df_dip[col_RNA])\n",
    "\n",
    "y1_dip = obj1(x_new, a1/2, b1/2)\n",
    "y2_dip = obj2(x_new, a2/2, b2/2)\n",
    "y3_dip = obj3(x_new, a3/2, b3/2)\n",
    "\n",
    "ys_dip = [y1_dip, y2_dip, y3_dip]\n",
    "\n",
    "plt.plot(x_new, y1_dip)\n",
    "plt.plot(x_new, y2_dip)\n",
    "plt.plot(x_new, y3_dip)"
   ]
  },
  {
   "cell_type": "markdown",
   "id": "e3fe9d54",
   "metadata": {},
   "source": [
    "# Predicting the single molecule data"
   ]
  },
  {
   "cell_type": "code",
   "execution_count": null,
   "id": "25a7b8c8",
   "metadata": {},
   "outputs": [],
   "source": [
    "col_RNA_frac = 'Rpb1_bound_fraction_mean'"
   ]
  },
  {
   "cell_type": "code",
   "execution_count": null,
   "id": "e58d4213",
   "metadata": {},
   "outputs": [],
   "source": [
    "# setting the axes at the centre\n",
    "fig = plt.figure()\n",
    "\n",
    "# plot the function\n",
    "plt.plot(df_SMT[col_vol], df_SMT[col_RNA_frac], 'go', label=\"data\")\n",
    "\n",
    "err1 = np.sqrt(np.mean((obj1(df_SMT[col_vol], a1, b1)/(a1*df_SMT[col_vol]/b1) - df_SMT[col_RNA_frac])**2))\n",
    "plt.plot(x_new, y1/(a1*x_new/b1), 'r', label=f\"constant nuclear fraction, err={np.around(err1, decimals=3)}\")\n",
    "\n",
    "err2 = np.sqrt(np.mean((obj2(df_SMT[col_vol], a2, b2)/(a2*df_SMT[col_vol]/b2) - df_SMT[col_RNA_frac])**2))\n",
    "plt.plot(x_new, y2/(a2*x_new/b2), label=f\"1/x nuclear fraction, err={np.around(err2, decimals=3)}\")\n",
    "\n",
    "err3 = np.sqrt(np.mean((obj3(df_SMT[col_vol], a3, b3)/(a3*df_SMT[col_vol]/b3) - df_SMT[col_RNA_frac])**2))\n",
    "plt.plot(x_new, y3/(a3*x_new/b3), label=f\"exponential nuclear fraction, err={np.around(err3, decimals=3)}\")\n",
    "\n",
    "plt.legend()\n",
    "plt.grid()\n",
    "plt.xlabel('cell size (fl)')\n",
    "plt.ylabel('RNAP II bound fraction')\n",
    "plt.xlim([15, 175])\n"
   ]
  },
  {
   "cell_type": "markdown",
   "id": "f2bf4322",
   "metadata": {},
   "source": [
    "# Bootstrap fitting on the parameters"
   ]
  },
  {
   "cell_type": "code",
   "execution_count": null,
   "id": "1eebb910",
   "metadata": {},
   "outputs": [],
   "source": [
    "np.random.choice(5, 3)"
   ]
  },
  {
   "cell_type": "code",
   "execution_count": null,
   "id": "844fee5c",
   "metadata": {},
   "outputs": [],
   "source": [
    "bag_size = 7\n",
    "n_fits = 100\n",
    "\n",
    "params = {1: {'a': [], 'b': []}, 2: {'a': [], 'b': []}, 3: {'a': [], 'b': []}}\n",
    "preds = {1: [], 2: [], 3: []}\n",
    "SMT_preds = {1: [], 2: [], 3: []}\n",
    "DIP_preds = {1: [], 2: [], 3: []}\n",
    "\n",
    "objs = [obj1, obj2, obj3]\n",
    "\n",
    "for _ in range(n_fits):\n",
    "    idx = np.random.choice(len(df_hap), bag_size)\n",
    "    \n",
    "    x_crt = df_hap[col_vol].iloc[idx].values\n",
    "    y_crt = df_hap[col_RNA].iloc[idx].values\n",
    "    \n",
    "    for (k, obj) in enumerate(objs):\n",
    "        (a, b), _ = curve_fit(obj, x_crt, y_crt)\n",
    "        params[k+1]['a'].append(a)\n",
    "        params[k+1]['b'].append(b)\n",
    "        y = obj(x_new, a, b)\n",
    "        preds[k+1].append(y.reshape(-1, 1))\n",
    "        SMT_preds[k+1].append((y/(a * x_new/b)).reshape(-1, 1))\n",
    "        DIP_preds[k+1].append((obj(x_new, a/2, b/2)).reshape(-1, 1))"
   ]
  },
  {
   "cell_type": "code",
   "execution_count": null,
   "id": "71bcb731",
   "metadata": {},
   "outputs": [],
   "source": [
    "# plotting the quantiles of the predictions\n",
    "quantiles = [.1, .5, .9]\n",
    "\n",
    "_, ax = plt.subplots(1, 3, figsize=(15, 4))\n",
    "\n",
    "for k in range(3):\n",
    "    Qs = [np.quantile(np.concatenate(preds[k+1], axis=1), q, axis=1) for q in quantiles]\n",
    "    \n",
    "    for Q in Qs: \n",
    "        ax[k].plot(x_new, Q, color='gray')\n",
    "    ax[k].scatter(df_hap[col_vol], df_hap[col_RNA])\n",
    "    \n",
    "    ax[k].set_title(f\"Model {k+1}\")\n",
    "    ax[k].grid()"
   ]
  },
  {
   "cell_type": "markdown",
   "id": "66b87a26",
   "metadata": {},
   "source": [
    "# CIs for the SMT data"
   ]
  },
  {
   "cell_type": "code",
   "execution_count": null,
   "id": "d66d3457",
   "metadata": {},
   "outputs": [],
   "source": [
    "# quantiles of the SMT predictions\n",
    "\n",
    "SMT_Qs = {1: [], 2: [], 3: []}\n",
    "quantiles_SMT = [.1, .9]\n",
    "\n",
    "for k in range(3):\n",
    "    SMT_Qs[k+1] = [np.quantile(np.concatenate(SMT_preds[k+1], axis=1), q, axis=1) for q in quantiles_SMT]"
   ]
  },
  {
   "cell_type": "code",
   "execution_count": null,
   "id": "c5a3ca11",
   "metadata": {},
   "outputs": [],
   "source": [
    "COLORS = ['firebrick', 'forestgreen', 'darkblue']\n",
    "alpha_plot=.2"
   ]
  },
  {
   "cell_type": "code",
   "execution_count": null,
   "id": "a8d1e065",
   "metadata": {},
   "outputs": [],
   "source": [
    "for k in range(3):\n",
    "    \n",
    "\n",
    "    plt.fill_between(x_new, SMT_Qs[k+1][0], SMT_Qs[k+1][1], \n",
    "                     color = COLORS[k], alpha=alpha_plot\n",
    "                    )\n",
    "    plt.plot(\n",
    "        x_new, ys[k]/(params_fit[k][0]*x_new/params_fit[k][1]), c=COLORS[k], \n",
    "        label=\"constant nuclear fraction\"\n",
    "    )\n",
    "        \n",
    "        \n",
    "# plot the function\n",
    "plt.scatter(df_SMT[col_vol], df_SMT[col_RNA_frac], color='black', label=\"data\")\n",
    "\n",
    "plt.legend()\n",
    "plt.grid()\n",
    "plt.xlabel('cell size (fl)')\n",
    "plt.ylabel('RNAP II bound fraction')\n",
    "plt.xlim([15, 175])"
   ]
  },
  {
   "cell_type": "code",
   "execution_count": null,
   "id": "5ef350e6",
   "metadata": {},
   "outputs": [],
   "source": [
    "_, ax = plt.subplots(1, 3, figsize=(15, 4))\n",
    "\n",
    "for k in range(3):\n",
    "    \n",
    "    ax[k].fill_between(x_new, SMT_Qs[k+1][0], SMT_Qs[k+1][1], \n",
    "                     color = COLORS[k], alpha=alpha_plot\n",
    "                    )\n",
    "    ax[k].plot(\n",
    "        x_new, ys[k]/(params_fit[k][0]*x_new/params_fit[k][1]), c=COLORS[k], \n",
    "        label=\"constant nuclear fraction\"\n",
    "    )\n",
    "        \n",
    "        \n",
    "    # plot the function\n",
    "    ax[k].scatter(df_SMT[col_vol], df_SMT[col_RNA_frac], color='black', label=\"data\")\n",
    "\n",
    "#     plt.legend()\n",
    "    ax[k].grid()\n",
    "    ax[k].set_xlabel('cell size (fl)')\n",
    "    ax[k].set_ylabel('RNAP II bound fraction')\n",
    "    ax[k].set_xlim([15, 175])\n",
    "    ax[k].set_ylim([0, 1])\n",
    "    ax[k].set_title(models[k])\n"
   ]
  },
  {
   "cell_type": "markdown",
   "id": "0c1f6e55",
   "metadata": {},
   "source": [
    "# CIs on diploid data"
   ]
  },
  {
   "cell_type": "code",
   "execution_count": null,
   "id": "79fc7a26",
   "metadata": {},
   "outputs": [],
   "source": [
    "# quantiles of the SMT predictions\n",
    "\n",
    "DIP_Qs = {1: [], 2: [], 3: []}\n",
    "quantiles_DIP = [.1, .9]\n",
    "\n",
    "for k in range(3):\n",
    "    DIP_Qs[k+1] = [np.quantile(np.concatenate(DIP_preds[k+1], axis=1), q, axis=1) for q in quantiles_DIP]"
   ]
  },
  {
   "cell_type": "code",
   "execution_count": null,
   "id": "730a565f",
   "metadata": {},
   "outputs": [],
   "source": [
    "_, ax = plt.subplots(1, 3, figsize=(15, 4))\n",
    "\n",
    "for k in range(3):\n",
    "    \n",
    "    ax[k].fill_between(x_new, DIP_Qs[k+1][0], DIP_Qs[k+1][1], \n",
    "                     color = COLORS[k], alpha=alpha_plot\n",
    "                    )\n",
    "    ax[k].plot(\n",
    "        x_new, ys_dip[k], c=COLORS[k], \n",
    "        label=\"constant nuclear fraction\"\n",
    "    )\n",
    "        \n",
    "        \n",
    "    # plot the function\n",
    "    ax[k].scatter(df_dip[col_vol], df_dip[col_RNA], color='black', label=\"data\")\n",
    "\n",
    "#     plt.legend()\n",
    "    ax[k].grid()\n",
    "    ax[k].set_xlabel('cell size (fl)')\n",
    "    ax[k].set_ylabel('RNAP II bound fraction')\n",
    "#     ax[k].set_xlim([15, 175])\n",
    "#     ax[k].set_ylim([0, 1])\n",
    "    ax[k].set_title(models[k])\n"
   ]
  },
  {
   "cell_type": "markdown",
   "id": "98afecc0",
   "metadata": {},
   "source": [
    "# Export files"
   ]
  },
  {
   "cell_type": "code",
   "execution_count": null,
   "id": "d441314e",
   "metadata": {},
   "outputs": [],
   "source": [
    "df_final = pd.DataFrame()"
   ]
  },
  {
   "cell_type": "code",
   "execution_count": null,
   "id": "c658cbef",
   "metadata": {},
   "outputs": [],
   "source": [
    "df_final.index = x_new"
   ]
  },
  {
   "cell_type": "code",
   "execution_count": null,
   "id": "a42e61fb",
   "metadata": {},
   "outputs": [],
   "source": [
    "df_final['haploid_constant_nuclear_fraction'] = ys[0]\n",
    "df_final['haploid_linear_nuclear_fraction'] = ys[1]\n",
    "df_final['haploid_exp_nuclear_fraction'] = ys[2]\n",
    "\n",
    "\n",
    "df_final['RNAPII_bound_fraction_constant_nuclear_fraction'] = ys[0]\n",
    "df_final['RNAPII_bound_fraction_constant_nuclear_fraction_10pc'] = SMT_Qs[1][0]\n",
    "df_final['RNAPII_bound_fraction_constant_nuclear_fraction_90pc'] = SMT_Qs[1][1]\n",
    "\n",
    "df_final['RNAPII_bound_fraction_linear_nuclear_fraction'] = ys[1]\n",
    "df_final['RNAPII_bound_fraction_linear_nuclear_fraction_10pc'] = SMT_Qs[2][0]\n",
    "df_final['RNAPII_bound_fraction_linear_nuclear_fraction_90pc'] = SMT_Qs[2][1]\n",
    "\n",
    "df_final['RNAPII_bound_fraction_exp_nuclear_fraction'] = ys[2]\n",
    "df_final['RNAPII_bound_fraction_exp_nuclear_fraction_10pc'] = SMT_Qs[3][0]\n",
    "df_final['RNAPII_bound_fraction_exp_nuclear_fraction_90pc'] = SMT_Qs[3][1]\n",
    "\n",
    "df_final['diploid_constant_nuclear_fraction'] = ys_dip[0]\n",
    "df_final['diploid_constant_nuclear_fraction_10pc'] = DIP_Qs[1][0]\n",
    "df_final['diploid_constant_nuclear_fraction_90pc'] = DIP_Qs[1][1]\n",
    "\n",
    "df_final['diploid_constant_linear_fraction'] = ys_dip[1]\n",
    "df_final['diploid_constant_linear_fraction_10pc'] = DIP_Qs[2][0]\n",
    "df_final['diploid_constant_linear_fraction_90pc'] = DIP_Qs[2][1]\n",
    "\n",
    "df_final['diploid_constant_exp_fraction'] = ys_dip[2]\n",
    "df_final['diploid_constant_exp_fraction_10pc'] = DIP_Qs[3][0]\n",
    "df_final['diploid_constant_exp_fraction_90pc'] = DIP_Qs[3][1]"
   ]
  },
  {
   "cell_type": "code",
   "execution_count": null,
   "id": "52341978",
   "metadata": {},
   "outputs": [],
   "source": [
    "df_final.to_csv(\"fits_Lucas.csv\")"
   ]
  },
  {
   "cell_type": "code",
   "execution_count": null,
   "id": "8f418616",
   "metadata": {},
   "outputs": [],
   "source": []
  }
 ],
 "metadata": {
  "kernelspec": {
   "display_name": "Python 3",
   "language": "python",
   "name": "python3"
  },
  "language_info": {
   "codemirror_mode": {
    "name": "ipython",
    "version": 3
   },
   "file_extension": ".py",
   "mimetype": "text/x-python",
   "name": "python",
   "nbconvert_exporter": "python",
   "pygments_lexer": "ipython3",
   "version": "3.7.7"
  },
  "toc": {
   "base_numbering": 1,
   "nav_menu": {},
   "number_sections": true,
   "sideBar": true,
   "skip_h1_title": false,
   "title_cell": "Table of Contents",
   "title_sidebar": "Contents",
   "toc_cell": true,
   "toc_position": {},
   "toc_section_display": true,
   "toc_window_display": true
  }
 },
 "nbformat": 4,
 "nbformat_minor": 5
}
