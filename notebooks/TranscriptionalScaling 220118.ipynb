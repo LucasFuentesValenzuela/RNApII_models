{
 "cells": [
  {
   "cell_type": "markdown",
   "id": "96761477",
   "metadata": {
    "toc": true
   },
   "source": [
    "<h1>Table of Contents<span class=\"tocSkip\"></span></h1>\n",
    "<div class=\"toc\"><ul class=\"toc-item\"><li><span><a href=\"#Nuclear-volume-scaling-with-cell-volume\" data-toc-modified-id=\"Nuclear-volume-scaling-with-cell-volume-1\"><span class=\"toc-item-num\">1&nbsp;&nbsp;</span>Nuclear volume scaling with cell volume</a></span><ul class=\"toc-item\"><li><span><a href=\"#Fitting-the-nuclear-fraction\" data-toc-modified-id=\"Fitting-the-nuclear-fraction-1.1\"><span class=\"toc-item-num\">1.1&nbsp;&nbsp;</span>Fitting the nuclear fraction</a></span></li></ul></li><li><span><a href=\"#Model-for-how-transcription-scales-with-cell-size\" data-toc-modified-id=\"Model-for-how-transcription-scales-with-cell-size-2\"><span class=\"toc-item-num\">2&nbsp;&nbsp;</span>Model for how transcription scales with cell size</a></span></li><li><span><a href=\"#calculate-the-RNA-concentration-assuming-that-transcription-is-proportional-to-bound-rna-pol-II-and-that-the-global-RNA-degradation-rate-is-proportional-to-the-mRNA-degradation-rates-$\\beta$-measured-for-the-two-MET-genes-in-Fig-1-of-the-draft.-$C$-is-a-constant.\" data-toc-modified-id=\"calculate-the-RNA-concentration-assuming-that-transcription-is-proportional-to-bound-rna-pol-II-and-that-the-global-RNA-degradation-rate-is-proportional-to-the-mRNA-degradation-rates-$\\beta$-measured-for-the-two-MET-genes-in-Fig-1-of-the-draft.-$C$-is-a-constant.-3\"><span class=\"toc-item-num\">3&nbsp;&nbsp;</span>calculate the RNA concentration assuming that transcription is proportional to bound rna pol II and that the global RNA degradation rate is proportional to the mRNA degradation rates $\\beta$ measured for the two MET genes in Fig 1 of the draft. $C$ is a constant.</a></span></li></ul></div>"
   ]
  },
  {
   "cell_type": "code",
   "execution_count": null,
   "id": "1cd1bd11-6224-458c-9f97-ae6307c63836",
   "metadata": {},
   "outputs": [],
   "source": [
    "import matplotlib.pyplot as plt\n",
    "import numpy as np\n",
    "\n",
    "from scipy.optimize import curve_fit"
   ]
  },
  {
   "cell_type": "code",
   "execution_count": null,
   "id": "f8501c42",
   "metadata": {},
   "outputs": [],
   "source": [
    "import pandas as pd"
   ]
  },
  {
   "cell_type": "markdown",
   "id": "5f79d5e7",
   "metadata": {},
   "source": [
    "# Nuclear volume scaling with cell volume"
   ]
  },
  {
   "cell_type": "code",
   "execution_count": null,
   "id": "d92128fc",
   "metadata": {},
   "outputs": [],
   "source": [
    "vols = pd.read_csv(\"nuc_vol.txt\", delimiter=\"\\t\", header=None)"
   ]
  },
  {
   "cell_type": "code",
   "execution_count": null,
   "id": "f6176b7a",
   "metadata": {},
   "outputs": [],
   "source": [
    "vols[0] = vols[0]/1.6"
   ]
  },
  {
   "cell_type": "code",
   "execution_count": null,
   "id": "f78c7a40",
   "metadata": {},
   "outputs": [],
   "source": [
    "plt.scatter(vols[1], vols[0])"
   ]
  },
  {
   "cell_type": "code",
   "execution_count": null,
   "id": "6b6209e3",
   "metadata": {},
   "outputs": [],
   "source": [
    "plt.scatter(vols[0], vols[1]/vols[0])"
   ]
  },
  {
   "cell_type": "markdown",
   "id": "e878f6ff",
   "metadata": {},
   "source": [
    "## Fitting the nuclear fraction"
   ]
  },
  {
   "cell_type": "code",
   "execution_count": null,
   "id": "c32feee5",
   "metadata": {},
   "outputs": [],
   "source": [
    "def nuc_frac_model(x, alpha, beta, delta): \n",
    "    return alpha + beta * np.exp(-delta * (x-15))"
   ]
  },
  {
   "cell_type": "code",
   "execution_count": null,
   "id": "1f9572c5",
   "metadata": {},
   "outputs": [],
   "source": [
    "# fit curve\n",
    "(alpha, beta, delta), _ = curve_fit(nuc_frac_model, vols[0], vols[1]/vols[0])"
   ]
  },
  {
   "cell_type": "code",
   "execution_count": null,
   "id": "7de4a7fc",
   "metadata": {},
   "outputs": [],
   "source": [
    "xs = np.linspace(10, 200, 100)\n",
    "\n",
    "plt.scatter(vols[0], vols[1]/vols[0])\n",
    "plt.plot(xs, nuc_frac_model(xs, alpha, beta, delta), ls = '--', lw=4, c='red')"
   ]
  },
  {
   "cell_type": "code",
   "execution_count": null,
   "id": "185ba4ee",
   "metadata": {},
   "outputs": [],
   "source": [
    "err = np.sqrt(np.mean(((vols[1]/vols[0]).values - nuc_frac_model(vols[0].values, alpha, beta, delta))**2))"
   ]
  },
  {
   "cell_type": "code",
   "execution_count": null,
   "id": "673139e3",
   "metadata": {},
   "outputs": [],
   "source": [
    "err"
   ]
  },
  {
   "cell_type": "code",
   "execution_count": null,
   "id": "aa2286e7",
   "metadata": {},
   "outputs": [],
   "source": [
    "alpha"
   ]
  },
  {
   "cell_type": "code",
   "execution_count": null,
   "id": "88bbebdc",
   "metadata": {},
   "outputs": [],
   "source": [
    "beta"
   ]
  },
  {
   "cell_type": "code",
   "execution_count": null,
   "id": "cb596e9a",
   "metadata": {},
   "outputs": [],
   "source": [
    "delta"
   ]
  },
  {
   "cell_type": "markdown",
   "id": "26c28d03-7e1b-437f-88e8-fe70d2f2c8c1",
   "metadata": {},
   "source": [
    "# Model for how transcription scales with cell size\n",
    "\n",
    "The number of RNA Polymerase II molecules is $PII_{tot}$ of which $PII_{DNA}$ is on the DNA and $PII_{nuc}$ is free in the nucleoplasm :\n",
    "\n",
    "$PII_{tot} = PII_{DNA} + PII_{nuc}$\n",
    "\n",
    "And the number of RNA Polymerase II molecules is proportional to cell size $V$ so that:\n",
    "\n",
    "$PII_{tot} = c V$,\n",
    "\n",
    "where c = 5-10,000 molecules for a 50 fl yeast cell\n",
    "\n",
    "The volume of the nucleus is about 10% of the cell volume so that:\n",
    "$V_{nuc} = \\frac{V}{10}$\n",
    "\n",
    "We assume that everything is taking place in the nuclear volume and that it follows simple first order kinetics for the nucleoplasmic $PII$ to bind the DNA:\n",
    "\n",
    "$\\frac{\\partial [PII_{DNA}]}{\\partial t} = k_{on} [PII_{nuc}]* [DNA] - k_{off}[PII_{DNA}]$\n",
    "\n",
    "the $k_{off}$ rate is ~1/minute, which is about the time it takes to transcribe a 1kb budding yeast gene. The number of DNA bound $PII$ molecules is given by multiplying the above by the nuclear volume: \n",
    "\n",
    "$\\frac{\\partial PII_{DNA}}{\\partial t} = k_{on} [PII_{nuc}]* DNA - k_{off}PII_{DNA}$\n",
    "\n",
    "we now eliminate $[PII_{nuc}] = [PII_{tot}] - [PII_{DNA}]$ so that \n",
    "\n",
    "$\\frac{\\partial PII_{DNA}}{\\partial t} = k_{on} ([PII_{tot}] - [PII_{DNA}])* DNA - k_{off}pII_{DNA}$\n",
    "\n",
    "we now assume that the on and off kinetics of $PII$ are fast relative to the volume growth of the cell so that we are in equilibrium and $\\frac{\\partial PII_{DNA}}{\\partial t} = 0$ so that \n",
    "\n",
    "$0 = k_{on} ([PII_{tot}] - [PII_{DNA}])* DNA - k_{off}pII_{DNA}$\n",
    "\n",
    "which we can write in terms of the number of molecules by multiplying again by the nuclear volume $V_{nuc}$ so that \n",
    "\n",
    "$ 0 = k_{on} (PII_{tot} - PII_{DNA})* DNA - k_{off}pII_{DNA}V_{nuc}$\n",
    "\n",
    "which we can solve for the DNA bound pol II:\n",
    "\n",
    "$PII_{DNA} = \\frac{k_{on}PII_{tot} DNA}{k_{on}DNA + k_{off}V_{nuc}}$\n",
    "\n",
    "and use the fact that the number of polymerases is proportional to the cell volume $PII_{tot} = c V$ and the nuclear volume is $V/10$:\n",
    "\n",
    "$PII_{DNA} = \\frac{k_{on}c V DNA}{k_{on}DNA + k_{off}V/10}$\n",
    "\n",
    "We can use this expression to calculate the fraction of bound $PII$ as \n",
    "\n",
    "$\\frac{PII_{DNA}}{PII_{tot}} = \\frac{k_{on} DNA}{k_{on}DNA + k_{off}V/10}$\n",
    "\n",
    "We can use these expressions to calculate the amount of DNA bound RNA pol II for a diploid, where $DNA_{diploid} = 2 * DNA_{haploid}$ so that $DNA \\to 2 DNA$ and \n",
    "\n",
    "$PII_{DNA} = \\frac{c V}{1 + \\frac{k_{off}V}{{10 * k_{on} * 2 DNA}}}$\n",
    "\n",
    "We can also see that if you reduce the amount of RNA Polymerase by half, you expect to see the amount bound to DNA drop by half. Intuitively, this is because each molecule of pol II is independent of each other molecule - so they have no competition for spots on the genome\n"
   ]
  },
  {
   "cell_type": "code",
   "execution_count": null,
   "id": "e418e49c-2141-47b6-8773-01e648a752a1",
   "metadata": {},
   "outputs": [],
   "source": [
    "# load input variables from a file - to fit the haploid elutriation G1 arrest data\n",
    "\n",
    "#G1 arrest replicates averaged mean size\n",
    "x_values_av = [30.3561053, 41.0563371, 53.9679581, 69.5260199, 85.7878708, 109.8508, 139.284533]\n",
    "#G1 arrest replicates averaged mean after replicates seperate and each rescaled to t=1\n",
    "y_values_av = [1.08808962, 1.281816857, 1.623124174, 1.78260975, 1.940886253, 2.160079661, 2.213655257]\n",
    "\n",
    "#G1 arrest replicates seperate mean size\n",
    "x_values = [29.4901011950314, 41.5499478547111, 56.2999132223838, 72.3800582138898, 88.4701975863986, 117.9997262242110, 143.4001214406140, 28.1498966859752, 40.2099941573393, 53.6200084659693, 69.7000995971186, 87.1299029291209, 113.8999558721200, 151.5000801586290]\n",
    "\n",
    "#G1 arrest replicates seperate not re-scaled per experiment\n",
    "y_values = [1.004635373,1.272252161,1.501839433,1.641307461,1.734718777,2.004981673,2.096972061,1.171543866,1.291381553,1.744408914,1.923912038,2.147053728,2.315177649,2.330338452]\n",
    "\n",
    "# objective function\n",
    "def objective(x, a, b): \n",
    "    return a*(x/b)/(1+x/b)\n",
    "\n",
    "def objective_varying_fraction(x, a, b): \n",
    "    nuclear_volume = 0.038 * x + 0.55\n",
    "    return a * (x/b) / (1 + b * nuclear_volume)\n",
    "\n",
    "def obj_exp_fraction(x, a, b):\n",
    "    nuc_volume = x * (alpha + beta * np.exp(-delta * (x-15)))\n",
    "    return a * (x/b) / (1 + b * nuc_volume)\n",
    "\n",
    "# fit curve\n",
    "(a, b), _ = curve_fit(objective, x_values, y_values)\n",
    "\n",
    "(a2, b2), _ = curve_fit(objective_varying_fraction, x_values, y_values)\n",
    "\n",
    "(a3, b3), _ = curve_fit(obj_exp_fraction, x_values, y_values)\n",
    "\n",
    "# define new input values\n",
    "x_new = np.linspace(0,150,100)\n",
    "\n",
    "# use optimal parameters to calculate new values\n",
    "y_new = objective(x_new, a, b)\n",
    "\n",
    "y_2 = objective_varying_fraction(x_new, a2, b2)\n",
    "\n",
    "y3 = obj_exp_fraction(x_new, a3, b3)\n",
    "\n",
    "fig = plt.figure()\n",
    "plt.plot(x_values_av ,y_values_av, 'ro',x_new,y_new, 'r')\n",
    "plt.plot(x_new, y_2, 'g--')\n",
    "plt.plot(x_new, y3, 'b--')\n",
    "\n",
    "plt.xlabel('cell size (fl)')\n",
    "plt.ylabel('DNA bound RNA Pol II')\n",
    "\n",
    "# show the plot\n",
    "plt.show()"
   ]
  },
  {
   "cell_type": "code",
   "execution_count": null,
   "id": "54e6b82a-755b-41d7-a72a-778f38f1b936",
   "metadata": {},
   "outputs": [],
   "source": [
    "# use the elutriation data fit to look at the single molecule data / there is no free fitting parameter\n",
    "x_frac=[20.7154709145946, 32.7949322420818, 50.6573218458102, 90.4710354592766, 150.480403151359]\n",
    "y_frac=[0.511800612594595, 0.483242974304699, 0.434892181601164, 0.362998958987166, 0.300707144719272]\n",
    "\n",
    "x = np.linspace(0,180,100)\n",
    "y = 1/(1+x/b)\n",
    "# setting the axes at the centre\n",
    "fig = plt.figure()\n",
    "\n",
    "# plot the function\n",
    "plt.plot(x_frac,y_frac, 'ro', label=\"data\")\n",
    "plt.plot(x,y, 'r', label=\"constant nuclear fraction\")\n",
    "\n",
    "nuclear_volume = 0.038 * x + 0.55\n",
    "plt.plot(x, 1/(1 + b2 * nuclear_volume), label=\"varying nuclear fraction\")\n",
    "\n",
    "nuc_volume = x * (alpha + beta * np.exp(-delta * (x-15)))\n",
    "plt.plot(x, 1/(1 + b3 * nuc_volume), label=\"exponential nuclear fraction\")\n",
    "\n",
    "plt.legend()\n",
    "plt.grid()\n",
    "plt.xlabel('cell size (fl)')\n",
    "plt.ylabel('RNAP II bound fraction')\n",
    "plt.xlim([15, 175])\n"
   ]
  },
  {
   "cell_type": "code",
   "execution_count": null,
   "id": "0cf0d3c8-b8af-4d5d-a845-ce46b85831af",
   "metadata": {
    "scrolled": true
   },
   "outputs": [],
   "source": [
    "# load input variables from a file - to fit the elutriation data\n",
    "\n",
    "#G1 arrest replicates averaged mean size\n",
    "x_values_haploid_av = [30.3561053, 41.0563371, 53.9679581, 69.5260199, 85.7878708, 109.8508, 139.284533]\n",
    "#G1 arrest replicates averaged mean after replicates seperate and each rescaled to t=1\n",
    "y_values_haploid_av = [1.08808962, 1.281816857, 1.623124174, 1.78260975, 1.940886253, 2.160079661, 2.213655257]\n",
    "\n",
    "#G1 arrest replicates averaged mean size\n",
    "x_values_diploid_av = [44.2178124, 64.3088305, 83.7608578, 107.347687, 136.410443, 167.910268, 206.300094]\n",
    "#G1 arrest replicates averaged mean after replicates seperate and each rescaled to t=1\n",
    "y_values_diploid_av = [1.934693045, 2.525299895, 2.897389887, 3.337740239, 3.580094407, 4.086145932, 4.055419358]\n",
    "\n",
    "#G1 arrest replicates seperate mean\n",
    "x_values_haploid = [29.4901011950314, 41.5499478547111, 56.2999132223838, 72.3800582138898, 88.4701975863986, 117.9997262242110, 143.4001214406140, 28.1498966859752, 40.2099941573393, 53.6200084659693, 69.7000995971186, 87.1299029291209, 113.8999558721200, 151.5000801586290]\n",
    "#G1 arrest replicates seperate not re-scaled per experiment\n",
    "y_values_haploid = [1.004635373,1.272252161,1.501839433,1.641307461,1.734718777,2.004981673,2.096972061,1.171543866,1.291381553,1.744408914,1.923912038,2.147053728,2.315177649,2.330338452]\n",
    "\n",
    "#G1 arrest replicates seperate mean\n",
    "x_values_diploid = [40.9965266219634, 59.3518208843852, 79.8297119995648, 101.711003356412, 130.55158384503, 159.935134942701, 201.407658700946, 47.4390981862732, 69.2658400752731, 87.6920036174882, 112.984369891381, 142.269301571159, 175.885400925365, 211.192529642018]\n",
    "#G1 arrest replicates seperate not re-scaled per experiment\n",
    "y_values_diploid = [1.866108552, 2.50025176, 2.716898491, 3.114691256, 3.163973993, 3.814225799, 4.026124967, 2.003277538, 2.55034803, 3.077881282, 3.560789221, 3.99621482, 4.358066064, 4.084713748]\n",
    "\n",
    "# objective function\n",
    "def objective(x, a, b): \n",
    "    return a*(x/b)/(1+x/(1*b))\n",
    "\n",
    "# fit curve\n",
    "popt, _ = curve_fit(objective, x_values_haploid, y_values_haploid)\n",
    "\n",
    "# define new input values\n",
    "x_new = np.linspace(0,250,100)\n",
    "# unpack optima parameters for the objective function\n",
    "a, b = popt\n",
    "# use optimal parameters to calculate new values\n",
    "y_new = objective(x_new, a, b)\n",
    "\n",
    "# calculate the result for twice the DNA (ie diploid) \n",
    "def objective_diploid(x,a2,b2):\n",
    "    return a2*(x/b2)/(1+x/(2*b2))\n",
    "\n",
    "y_diploid = objective_diploid(x_new, a, b)\n",
    " \n",
    "    \n",
    "fig = plt.figure()\n",
    "plt.plot(x_values_haploid_av ,y_values_haploid_av, 'ro', x_values_diploid_av, y_values_diploid_av, 'bo',x_new,y_new, 'r',x_new,y_diploid,'b')\n",
    "\n",
    "plt.xlabel('cell size (fl)')\n",
    "plt.ylabel('DNA bound RNA Pol II; blue=diploid prediction')\n",
    "\n",
    "# show the plot\n",
    "plt.show()"
   ]
  },
  {
   "cell_type": "code",
   "execution_count": null,
   "id": "68ee1531",
   "metadata": {},
   "outputs": [],
   "source": [
    "b"
   ]
  },
  {
   "cell_type": "markdown",
   "id": "e8b2cec7-7826-467c-9622-f0c6e0e6f1ce",
   "metadata": {},
   "source": [
    "# calculate the RNA concentration assuming that transcription is proportional to bound rna pol II and that the global RNA degradation rate is proportional to the mRNA degradation rates $\\beta$ measured for the two MET genes in Fig 1 of the draft. $C$ is a constant.\n",
    "\n",
    "$\\frac{\\partial{mRNA}}{\\partial t} \\sim PII_{DNA} - C \\beta \\, mRNA$ \n",
    "\n",
    "and we can assume steady state $\\frac{\\partial{mRNA}}{\\partial t} = 0$ so that we can solve for the $mRNA$ to be\n",
    "\n",
    "$ C\\,mRNA \\approx \\frac{PII_{DNA}}{\\beta}$\n",
    "\n",
    "for $whi5\\Delta$ cells $V \\approx 32 fl$, $PII_{DNA} \\approx 1.19$, $\\beta \\approx 0.2 \\, min^{-1}$, so that\n",
    "$C\\, mRNA \\approx 5.95$ and $C\\,[mRNA] \\approx 0.19$\n",
    "\n",
    "for $cln3\\Delta$ cells $V \\approx 66 fl$, $PII_{DNA} \\approx 1.67$, $\\beta \\approx 0.15 \\, min^{-1}$, so that\n",
    "$C\\, mRNA \\approx 11.1$ and $C\\,[mRNA] \\approx 0.17$\n",
    "\n",
    "In both cases the $[mRNA]$ is within 10% implying that most of the compensation to produce mRNA homeostasis could be taking place via regulation of mRNA decay rates. I used the $\\beta$ from $MET3$ since that was easier to get from figure, but the half life change for $MET17$ seems similar.\n",
    "\n",
    "I think this can be tested with a more granular measure of the Pol II ChIP to really see if the functional form fits. Because if there was appreciable feedback regulation on $k_{on}$ for pol II then that should lead to a systematic deviation from the fit for DNA bound pol II as a function of cell size\n",
    "\n",
    "If pol II on the DNA is proportiona to the transcription rate, with constant $\\alpha$, we can write the following equation for the mRNA synthesis rate:\n",
    "\n",
    "$\\frac{\\partial \\, mRNA}{\\partial t} = \\alpha PII_{DNA} - \\beta([mRNA],V)\\,mRNA$\n",
    "\n",
    "which, we take at steady state and divide by the cell volume $V$ to yield\n",
    "\n",
    "$\\beta([mRNA],V) = \\frac{\\alpha PII_{DNA}}{V\\,[mRNA]}$\n",
    "\n",
    "But, until cells get really large then $[mRNA] = [mRNA]_0$, a constant, so that the degradation rate is just a function of the cell volume. After substituting the expression for the DNA bound pol II yields:\n",
    "\n",
    "$\\beta(V) = \\frac{\\alpha PII_{DNA}}{V\\,mRNA} = \\frac{\\alpha \\, c }{[mRNA]_0}\\frac{1}{1+\\frac{k_{off}\\,V}{10 k_{on}\\,DNA}}\\approx \\frac{\\alpha \\, c }{[mRNA]_0}\\frac{1}{1+\\frac{V}{40 fl}} $\n",
    "\n",
    "This can be tested experimentally, but we need more than 2 cell sizes to measure the degradation rates, and it would be good to measure the degradation rates of the mRNA globally rather than just for the 2 genes if possible. \n",
    "\n",
    "But then, how to explain figure 4, or the general phenomenon that mutations to RNA stability affects the transcription rate? It could be that there is also a feedback from mRNA concentration to polymerase synthesis, stability, or the loading rate to the genome. This would then increase the amount of the nuclear amount of pol II on the genome relative to that expected when, for example, 50% of the pol II is removed from the nucleus. "
   ]
  },
  {
   "cell_type": "code",
   "execution_count": null,
   "id": "86e9a242",
   "metadata": {},
   "outputs": [],
   "source": [
    "# perform error analysis using bootstrap fitting\n",
    "\n",
    "#G1 arrest replicates seperate mean size\n",
    "x_values = [29.4901011950314, 41.5499478547111, 56.2999132223838, 72.3800582138898, 88.4701975863986, 117.9997262242110, 143.4001214406140, 28.1498966859752, 40.2099941573393, 53.6200084659693, 69.7000995971186, 87.1299029291209, 113.8999558721200, 151.5000801586290]\n",
    "\n",
    "#G1 arrest replicates seperate not re-scaled per experiment\n",
    "y_values = [1.004635373,1.272252161,1.501839433,1.641307461,1.734718777,2.004981673,2.096972061,1.171543866,1.291381553,1.744408914,1.923912038,2.147053728,2.315177649,2.330338452]\n",
    "\n",
    "\n",
    "\n",
    "# objective function\n",
    "def objective(x, a, b): \n",
    "    return a*(x/b)/(1+x/b)\n",
    "\n",
    "# fit curve\n",
    "popt, _ = curve_fit(objective, x_values, y_values)\n",
    "\n",
    "# define new input values\n",
    "x_new = np.linspace(0,250,100)\n",
    "# get optimal parameters for the objective function\n",
    "a, b = popt\n",
    "# use optimal parameters to calculate new values\n",
    "y_new = objective(x_new, a, b)\n",
    "\n",
    "print(a, b)\n",
    "\n",
    "\n",
    "fig = plt.figure()\n",
    "plt.plot(x_values ,y_values, 'ro',x_new,y_new, 'r')\n",
    "\n",
    "plt.xlabel('cell size (fl)')\n",
    "plt.ylabel('DNA bound RNA Pol II')\n",
    "\n",
    "# show the plot\n",
    "plt.show()"
   ]
  },
  {
   "cell_type": "code",
   "execution_count": null,
   "id": "78f3c14d",
   "metadata": {},
   "outputs": [],
   "source": [
    "list1 = [i for i in range(14)]\n",
    "\n",
    "xrand = [0 for i in range(14)]\n",
    "yrand = [0 for i in range(14)]\n",
    "\n",
    "# define new input values\n",
    "# x_new = np.linspace(0,150,100)\n",
    "# unpack optima parameters for the objective function\n",
    "# a, b = popt\n",
    "# use optimal parameters to calculate new values\n",
    "# y_new_rand = objective(x_new, a, b)\n",
    "\n",
    "# objective function\n",
    "\n",
    "def objective(x, a, b): \n",
    "    return a*(x/b)/(1+x/b)\n",
    "\n",
    "simulations = 10000\n",
    "\n",
    "print(simulations)\n",
    "\n",
    "a_rand = [0 for i in range(simulations)] \n",
    "b_rand = [0 for i in range(simulations)] \n",
    "\n",
    "for sim in range(simulations):\n",
    "    for x in range(14):\n",
    "        y=np.random.choice(list1)\n",
    "        xrand[x]=x_values[y]\n",
    "        yrand[x]=y_values[y]\n",
    "    \n",
    "    popt, _ = curve_fit(objective, xrand, yrand)\n",
    "    # print(popt)\n",
    "    a_rand[sim]=popt[0]\n",
    "    b_rand[sim]=popt[1]\n",
    "\n",
    "# print(a_rand)\n",
    "# print(b_rand)\n",
    "\n",
    "plt.hist(a_rand)\n",
    "\n"
   ]
  },
  {
   "cell_type": "code",
   "execution_count": null,
   "id": "75651f1a-48d7-468d-ae4d-81b20fc96992",
   "metadata": {},
   "outputs": [],
   "source": [
    "import statistics\n",
    "\n",
    "x_new = np.linspace(0,250,100)\n",
    "\n",
    "\n",
    "y_median = [0 for i in range(100)]\n",
    "y_fifth = [0 for i in range(100)]\n",
    "y_ninetyfifth = [0 for i in range(100)]\n",
    "\n",
    "# print(simulations)\n",
    "# print(y_median)\n",
    "# print(x_new)\n",
    "\n",
    "\n",
    "#y_new = objective(x_new, a_rand[0], b_rand[0])\n",
    "\n",
    "#y_dist = [0 for i in range(simulations)] \n",
    "\n",
    "y_dist = [0 for i in range(simulations)] \n",
    "\n",
    "for xx in range(100):\n",
    "    for x in range(simulations):\n",
    "        y_dist[x]= objective(x_new[xx], a_rand[x], b_rand[x])\n",
    "    y_median[xx]=np.percentile(y_dist, 50)\n",
    "    y_fifth[xx]=np.percentile(y_dist, 5)\n",
    "    y_ninetyfifth[xx]=np.percentile(y_dist, 95)\n",
    "\n",
    "\n",
    "\n",
    "# print(y_median)\n",
    "\n",
    "fig = plt.figure()\n",
    "plt.plot(x_values ,y_values, 'ro',x_new,y_new, 'r',x_new,y_median,'b',x_new,y_fifth,'b',x_new,y_ninetyfifth,'b')\n",
    "\n",
    "plt.xlabel('cell size (fl)')\n",
    "plt.ylabel('DNA bound RNA Pol II')\n",
    "\n"
   ]
  },
  {
   "cell_type": "code",
   "execution_count": null,
   "id": "dfcb2a4a",
   "metadata": {},
   "outputs": [],
   "source": [
    "# calculate the result for twice the DNA (ie diploid) and generate 5, 50, and 95th percentiles \n",
    "\n",
    "def objective_diploid(size,a2,b2):\n",
    "    return a2*(size/b2)/(1+size/(2*b2))\n",
    "\n",
    "\n",
    "x_new = np.linspace(0,250,100)\n",
    "\n",
    "ydip_median = [0 for i in range(100)]\n",
    "ydip_fifth = [0 for i in range(100)]\n",
    "ydip_ninetyfifth = [0 for i in range(100)]\n",
    "\n",
    "ydip_dist = [0 for i in range(simulations)] \n",
    "\n",
    "for xx in range(100):\n",
    "    for x in range(simulations):\n",
    "        ydip_dist[x]= objective_diploid(x_new[xx], a_rand[x], b_rand[x])\n",
    "    ydip_median[xx]=np.percentile(ydip_dist, 50)\n",
    "    ydip_fifth[xx]=np.percentile(ydip_dist, 5)\n",
    "    ydip_ninetyfifth[xx]=np.percentile(ydip_dist, 95)\n",
    "\n",
    "fig = plt.figure()\n",
    "plt.plot(x_values_haploid_av ,y_values_haploid_av, 'ro', x_values_diploid_av, y_values_diploid_av, 'bo',x_new,y_new, 'r',x_new,ydip_median,'b',x_new,ydip_fifth,'b',x_new,ydip_ninetyfifth,'b')\n",
    "\n",
    "plt.xlabel('cell size (fl)')\n",
    "plt.ylabel('DNA bound RNA Pol II')\n",
    "\n",
    "print(x_new)"
   ]
  },
  {
   "cell_type": "code",
   "execution_count": null,
   "id": "91f0446e",
   "metadata": {},
   "outputs": [],
   "source": [
    "print(*ydip_fifth, sep = \"\\n\")"
   ]
  },
  {
   "cell_type": "code",
   "execution_count": null,
   "id": "e14db532",
   "metadata": {},
   "outputs": [],
   "source": [
    "print()\n",
    "print(*ydip_median, sep = \"\\n\")"
   ]
  },
  {
   "cell_type": "code",
   "execution_count": null,
   "id": "4940b672",
   "metadata": {},
   "outputs": [],
   "source": [
    "print(ydip_ninetyfifth)\n"
   ]
  }
 ],
 "metadata": {
  "kernelspec": {
   "display_name": "Python 3 (ipykernel)",
   "language": "python",
   "name": "python3"
  },
  "language_info": {
   "codemirror_mode": {
    "name": "ipython",
    "version": 3
   },
   "file_extension": ".py",
   "mimetype": "text/x-python",
   "name": "python",
   "nbconvert_exporter": "python",
   "pygments_lexer": "ipython3",
   "version": "3.10.4"
  },
  "toc": {
   "base_numbering": 1,
   "nav_menu": {},
   "number_sections": true,
   "sideBar": true,
   "skip_h1_title": false,
   "title_cell": "Table of Contents",
   "title_sidebar": "Contents",
   "toc_cell": true,
   "toc_position": {
    "height": "calc(100% - 180px)",
    "left": "10px",
    "top": "150px",
    "width": "165px"
   },
   "toc_section_display": true,
   "toc_window_display": true
  }
 },
 "nbformat": 4,
 "nbformat_minor": 5
}
